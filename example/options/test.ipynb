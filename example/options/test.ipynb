{
 "cells": [
  {
   "cell_type": "code",
   "execution_count": 16,
   "id": "b0a7a9bc-644f-4474-acac-0518238915af",
   "metadata": {},
   "outputs": [
    {
     "name": "stdout",
     "output_type": "stream",
     "text": [
      "/home/mazeeqe/Documents/mestrado/code/tomaz-example/input_files/Dirac-Dst-E250-e2e2h_inv.eL.pR_bg-00001.root\n",
      "/home/mazeeqe/Documents/mestrado/code/tomaz-example/input_files/Dirac-Dst-E250-e2e2h_inv.eL.pR_bg-00002.root\n"
     ]
    }
   ],
   "source": [
    "from pathlib import Path\n",
    "from typing import List\n",
    "\n",
    "def root_file_paths(\n",
    "    parent_folder: str | Path,\n",
    "    start: int = 1,\n",
    "    stop: int = 12,\n",
    "    prefix: str = \"Dirac-Dst-E250-e2e2h_inv.eL.pR_bg-\",\n",
    "    suffix: str = \".root\",\n",
    "    pad: int = 5,\n",
    "    absolute: bool = True\n",
    ") -> List[str]:\n",
    "    \"\"\"\n",
    "    Construct full file paths for files named like\n",
    "    Dirac-Dst-E250-e2e2h_inv.eL.pR_bg-00X.root\n",
    "    that reside in ``parent_folder``.\n",
    "\n",
    "    Parameters\n",
    "    ----------\n",
    "    parent_folder : str or Path\n",
    "        The directory that contains the ROOT files.\n",
    "    start, stop : int\n",
    "        Index range (inclusive).  Use start=1 for “01”.\n",
    "    prefix, suffix : str\n",
    "        Fixed parts of the filename.\n",
    "    pad : int\n",
    "        Number of digits for zero‑padding (2 → 01,02,…).\n",
    "    absolute : bool, default True\n",
    "        If True, return absolute paths; otherwise return paths\n",
    "        relative to ``parent_folder``.\n",
    "\n",
    "    Returns\n",
    "    -------\n",
    "    List[str]\n",
    "        A list of file paths ready to be opened.\n",
    "    \"\"\"\n",
    "    parent = Path(parent_folder)\n",
    "\n",
    "    paths: List[str] = []\n",
    "    for i in range(start, stop + 1):\n",
    "        idx = f\"{i:0{pad}d}\"                 # e.g. 1 → \"01\"\n",
    "        filename = f\"{prefix}{idx}{suffix}\" # full filename\n",
    "        file_path = parent / filename\n",
    "\n",
    "        # Optionally resolve to an absolute path\n",
    "        if absolute:\n",
    "            file_path = file_path.resolve()\n",
    "\n",
    "        paths.append(str(file_path))\n",
    "\n",
    "    return paths\n",
    "\n",
    "\n",
    "# ----------------------------------------------------------------------\n",
    "# Example usage\n",
    "# ----------------------------------------------------------------------\n",
    "if __name__ == \"__main__\":\n",
    "    # Suppose the ROOT files sit in “…/data/root_inputs/”\n",
    "    parent_dir = \"../../input_files\"\n",
    "\n",
    "    # Get the 12 file paths\n",
    "    file_list = root_file_paths(parent_dir, start=1, stop=2)\n",
    "\n",
    "    for p in file_list:\n",
    "        print(p)"
   ]
  },
  {
   "cell_type": "code",
   "execution_count": null,
   "id": "a41cfb7f-707f-421a-9654-4aa272ffbe7b",
   "metadata": {},
   "outputs": [],
   "source": []
  }
 ],
 "metadata": {
  "kernelspec": {
   "display_name": "Python 3 (ipykernel)",
   "language": "python",
   "name": "python3"
  },
  "language_info": {
   "codemirror_mode": {
    "name": "ipython",
    "version": 3
   },
   "file_extension": ".py",
   "mimetype": "text/x-python",
   "name": "python",
   "nbconvert_exporter": "python",
   "pygments_lexer": "ipython3",
   "version": "3.10.12"
  }
 },
 "nbformat": 4,
 "nbformat_minor": 5
}
