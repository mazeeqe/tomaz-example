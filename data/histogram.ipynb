{
 "cells": [
  {
   "cell_type": "code",
   "execution_count": 1,
   "id": "39f6c787-5557-4fa0-80f3-c3f9edfe07d5",
   "metadata": {},
   "outputs": [
    {
     "ename": "ModuleNotFoundError",
     "evalue": "No module named 'uproot'",
     "output_type": "error",
     "traceback": [
      "\u001b[0;31m---------------------------------------------------------------------------\u001b[0m",
      "\u001b[0;31mModuleNotFoundError\u001b[0m                       Traceback (most recent call last)",
      "Cell \u001b[0;32mIn[1], line 1\u001b[0m\n\u001b[0;32m----> 1\u001b[0m \u001b[38;5;28;01mimport\u001b[39;00m \u001b[38;5;21;01muproot\u001b[39;00m\n\u001b[1;32m      2\u001b[0m \u001b[38;5;28;01mimport\u001b[39;00m \u001b[38;5;21;01mmatplotlib\u001b[39;00m\u001b[38;5;21;01m.\u001b[39;00m\u001b[38;5;21;01mpyplot\u001b[39;00m \u001b[38;5;28;01mas\u001b[39;00m \u001b[38;5;21;01mplt\u001b[39;00m\n\u001b[1;32m      3\u001b[0m \u001b[38;5;28;01mimport\u001b[39;00m \u001b[38;5;21;01mnumpy\u001b[39;00m \u001b[38;5;28;01mas\u001b[39;00m \u001b[38;5;21;01mnp\u001b[39;00m\n",
      "\u001b[0;31mModuleNotFoundError\u001b[0m: No module named 'uproot'"
     ]
    }
   ],
   "source": [
    "import uproot\n",
    "import matplotlib.pyplot as plt\n",
    "import numpy as np\n",
    "\n",
    "# Open the ROOT file\n",
    "file = uproot.open(\"hist.root\")\n",
    "\n",
    "# Access the histogram\n",
    "h_mumu = file[\"h_mumu\"]\n",
    "\n",
    "# Get histogram values and bin edges\n",
    "values = h_mumu.values()\n",
    "edges = h_mumu.axes[0].edges()\n",
    "\n",
    "# Compute bin centers for plotting\n",
    "centers = 0.5 * (edges[:-1] + edges[1:])\n",
    "\n",
    "# Plot\n",
    "plt.figure(figsize=(8,6))\n",
    "plt.bar(centers, values, width=np.diff(edges), align=\"center\",\n",
    "        edgecolor=\"black\", color=\"skyblue\")\n",
    "\n",
    "plt.xlabel(r\"$M_{\\mu\\mu}$ [GeV]\")\n",
    "plt.ylabel(\"Events\")\n",
    "plt.title(\"Invariant Mass of Two Muons\")\n",
    "plt.grid(alpha=0.3)\n",
    "\n",
    "plt.savefig(\"muon_histogram\")"
   ]
  },
  {
   "cell_type": "code",
   "execution_count": null,
   "id": "a1b4b31a-f3d1-4507-b591-34b72f990f78",
   "metadata": {},
   "outputs": [],
   "source": []
  }
 ],
 "metadata": {
  "kernelspec": {
   "display_name": "Python 3 (ipykernel)",
   "language": "python",
   "name": "python3"
  },
  "language_info": {
   "codemirror_mode": {
    "name": "ipython",
    "version": 3
   },
   "file_extension": ".py",
   "mimetype": "text/x-python",
   "name": "python",
   "nbconvert_exporter": "python",
   "pygments_lexer": "ipython3",
   "version": "3.10.12"
  }
 },
 "nbformat": 4,
 "nbformat_minor": 5
}
